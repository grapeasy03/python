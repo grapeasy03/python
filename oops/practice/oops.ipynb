{
 "cells": [
  {
   "cell_type": "code",
   "execution_count": 3,
   "metadata": {},
   "outputs": [],
   "source": [
    "import random\n",
    "class Bank:\n",
    "    pass"
   ]
  },
  {
   "cell_type": "code",
   "execution_count": 13,
   "metadata": {},
   "outputs": [],
   "source": [
    "account1=Bank()\n",
    "account1.account_name=\"Kushaga\"\n",
    "account1.acc_number=random.randint(1,100)\n",
    "account2=Bank()\n",
    "account2.account_name=\"Mohit\"\n",
    "account2.acc_number=random.randint(1,100)\n"
   ]
  },
  {
   "cell_type": "code",
   "execution_count": 14,
   "metadata": {},
   "outputs": [
    {
     "name": "stdout",
     "output_type": "stream",
     "text": [
      "Kushaga\n",
      "83\n",
      "Mohit\n",
      "96\n"
     ]
    }
   ],
   "source": [
    "print(account1.account_name)\n",
    "print(account1.acc_number)\n",
    "\n",
    "print(account2.account_name)\n",
    "print(account2.acc_number)\n"
   ]
  },
  {
   "cell_type": "code",
   "execution_count": 20,
   "metadata": {},
   "outputs": [
    {
     "name": "stdout",
     "output_type": "stream",
     "text": [
      "42\n",
      "[Bank('Kushagra',42), Bank('Jastej',36)]\n"
     ]
    }
   ],
   "source": [
    "class Bank:\n",
    "    all=[]\n",
    "    \n",
    "    def __init__(self,name:str):\n",
    "        self.name=name\n",
    "        self.account_number=self.generate_account_number()\n",
    "\n",
    "        Bank.all.append(self)\n",
    "    \n",
    "    def generate_account_number(self):\n",
    "        \n",
    "        while True:\n",
    "            account_number=random.randint(1,100)\n",
    "            for item in Bank.all:\n",
    "                if item.account_number==account_number:\n",
    "                    break\n",
    "            else:\n",
    "                return account_number\n",
    "    \n",
    "    def __repr__(self):\n",
    "        return f\"Bank('{self.name}',{self.account_number})\"\n",
    "\n",
    "account1=Bank(\"Kushagra\")  \n",
    "account2=Bank(\"Jastej\")\n",
    "\n",
    "print(account1.account_number) \n",
    "\n",
    "print(Bank.all)         "
   ]
  }
 ],
 "metadata": {
  "kernelspec": {
   "display_name": "Python 3",
   "language": "python",
   "name": "python3"
  },
  "language_info": {
   "codemirror_mode": {
    "name": "ipython",
    "version": 3
   },
   "file_extension": ".py",
   "mimetype": "text/x-python",
   "name": "python",
   "nbconvert_exporter": "python",
   "pygments_lexer": "ipython3",
   "version": "3.12.2"
  }
 },
 "nbformat": 4,
 "nbformat_minor": 2
}
