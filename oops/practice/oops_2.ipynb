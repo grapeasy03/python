{
 "cells": [
  {
   "cell_type": "code",
   "execution_count": 9,
   "metadata": {},
   "outputs": [],
   "source": [
    "class House:\n",
    "    localities = [\"MSN\", \"UE1\", \"UE2\", \"Model Town\", \"Adarsh Nagar\", \"Maqsudan\"]\n",
    "    all = []\n",
    "    \n",
    "    def __init__(self):\n",
    "        self.owner_name = input(\"Enter the owner's name: \")\n",
    "        print(\"Locality:\")\n",
    "        for i, locality in enumerate(House.localities):\n",
    "            print(f\"{i+1}. {locality}\")\n",
    "        while True:\n",
    "            try:\n",
    "                choice = int(input(\"To select the locality, Enter the locality index: \"))\n",
    "                if 1 <= choice <= len(House.localities):\n",
    "                    self.locality = House.localities[choice-1]\n",
    "                    break\n",
    "                else:\n",
    "                    print(\"Invalid choice, please enter a valid index\")\n",
    "            except ValueError:\n",
    "                print(\"Invalid input, please enter a valid number\")\n",
    "        \n",
    "        self.no_of_rooms = int(input(\"Enter the number of rooms: \"))\n",
    "        self.no_of_floors = int(input(\"Enter the number of floors: \"))\n",
    "        self.circleRate = int(input(\"Enter circle rate in INR: \"))\n",
    "        self.price = self.calculate_price()\n",
    "        House.all.append(self)\n",
    "    \n",
    "    def calculate_price(self):\n",
    "        return self.circleRate * self.no_of_rooms * self.no_of_floors\n",
    "    \n",
    "    def __repr__(self):\n",
    "        return f\"{self.owner_name} owns a house in {self.locality} with {self.no_of_rooms} rooms and {self.no_of_floors} floors. The cost of the house is {self.price}\"\n"
   ]
  },
  {
   "cell_type": "code",
   "execution_count": 10,
   "metadata": {},
   "outputs": [
    {
     "name": "stdout",
     "output_type": "stream",
     "text": [
      "Locality:\n",
      "1. MSN\n",
      "2. UE1\n",
      "3. UE2\n",
      "4. Model Town\n",
      "5. Adarsh Nagar\n",
      "6. Maqsudan\n",
      "kd owns a house in MSN with 1 rooms and 2 floors. The cost of the house is 60000\n",
      "Locality:\n",
      "1. MSN\n",
      "2. UE1\n",
      "3. UE2\n",
      "4. Model Town\n",
      "5. Adarsh Nagar\n",
      "6. Maqsudan\n",
      "ed owns a house in Model Town with 3 rooms and 3 floors. The cost of the house is 291105\n",
      "[kd owns a house in MSN with 1 rooms and 2 floors. The cost of the house is 60000, ed owns a house in Model Town with 3 rooms and 3 floors. The cost of the house is 291105]\n"
     ]
    }
   ],
   "source": [
    "no_of_houses=2\n",
    "for i in range(no_of_houses):\n",
    "    \n",
    "  house=House()\n",
    "  print(house)\n",
    "print(House.all)"
   ]
  },
  {
   "cell_type": "code",
   "execution_count": 11,
   "metadata": {},
   "outputs": [
    {
     "name": "stdout",
     "output_type": "stream",
     "text": [
      "[kd owns a house in MSN with 1 rooms and 2 floors. The cost of the house is 60000, ed owns a house in Model Town with 3 rooms and 3 floors. The cost of the house is 291105]\n"
     ]
    }
   ],
   "source": [
    "print(House.all)"
   ]
  },
  {
   "cell_type": "code",
   "execution_count": null,
   "metadata": {},
   "outputs": [],
   "source": []
  }
 ],
 "metadata": {
  "kernelspec": {
   "display_name": "Python 3",
   "language": "python",
   "name": "python3"
  },
  "language_info": {
   "codemirror_mode": {
    "name": "ipython",
    "version": 3
   },
   "file_extension": ".py",
   "mimetype": "text/x-python",
   "name": "python",
   "nbconvert_exporter": "python",
   "pygments_lexer": "ipython3",
   "version": "3.12.2"
  }
 },
 "nbformat": 4,
 "nbformat_minor": 2
}
