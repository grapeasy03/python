{
 "cells": [
  {
   "cell_type": "code",
   "execution_count": 3,
   "id": "4c6b868b-034b-4b72-a6a2-1eeeca43f0f6",
   "metadata": {},
   "outputs": [],
   "source": [
    "class Item:\n",
    "    pass\n",
    "\n",
    "item1=Item() #creating instance of the classs\n"
   ]
  },
  {
   "cell_type": "code",
   "execution_count": 3,
   "id": "471e8929-19da-4564-9b48-77e2df79a20d",
   "metadata": {},
   "outputs": [],
   "source": [
    "class Item:\n",
    "    def calculate_total_price():\n",
    "        pass\n",
    "\n",
    "item1=Item()\n",
    "item1.name=\"Phone\"\n",
    "# item1.price=100\n",
    "# item1.qty=100\n",
    "# item1.calculate_total_price()"
   ]
  },
  {
   "cell_type": "code",
   "execution_count": 25,
   "id": "b11f82f4-b066-4f34-845f-8800d41d9112",
   "metadata": {},
   "outputs": [],
   "source": [
    "#adding self \n",
    "class Item:\n",
    "    def calculate_total_price(self):\n",
    "        pass\n",
    "\n",
    "item1=Item()\n",
    "item1.name=\"Phone\"\n",
    "item1.price=100\n",
    "item1.qty=100\n",
    "item1.calculate_total_price()"
   ]
  },
  {
   "cell_type": "code",
   "execution_count": 27,
   "id": "f03eb056-3c98-4d11-8fae-6e6137cfc0a9",
   "metadata": {},
   "outputs": [
    {
     "data": {
      "text/plain": [
       "10000"
      ]
     },
     "execution_count": 27,
     "metadata": {},
     "output_type": "execute_result"
    }
   ],
   "source": [
    "\n",
    "class Item:\n",
    "    def calculate_total_price(self,x,y):\n",
    "        return x*y\n",
    "item1=Item()\n",
    "item1.name=\"Phone\"\n",
    "item1.price=100\n",
    "item1.qty=100\n",
    "item1.calculate_total_price(item1.price,item1.qty)"
   ]
  },
  {
   "cell_type": "code",
   "execution_count": 2,
   "id": "da3226f9-ba7b-49ee-a94f-8f2cb9e947f8",
   "metadata": {},
   "outputs": [
    {
     "name": "stdout",
     "output_type": "stream",
     "text": [
      "hello i am called ,init\n",
      "hello i am called ,init\n"
     ]
    }
   ],
   "source": [
    "# init\n",
    "class Item:\n",
    "    def __init__(self):\n",
    "        print(\"hello i am called ,init\")\n",
    "        \n",
    "item1=Item()\n",
    "item2=Item()"
   ]
  },
  {
   "cell_type": "code",
   "execution_count": 4,
   "id": "8d7f9182-72d8-48f9-ad60-6d15646c5970",
   "metadata": {},
   "outputs": [
    {
     "name": "stdout",
     "output_type": "stream",
     "text": [
      "an instance created:Laptop\n",
      "an instance created:Mobile\n"
     ]
    }
   ],
   "source": [
    "class Item:\n",
    "    def __init__(self,name):\n",
    "        print(f\"an instance created:{name}\")\n",
    "\n",
    "item1=Item(\"Laptop\")\n",
    "itrm2=Item(\"Mobile\")"
   ]
  },
  {
   "cell_type": "code",
   "execution_count": 6,
   "id": "9e62699a-7cda-4144-ac04-9b4bc7635152",
   "metadata": {},
   "outputs": [
    {
     "name": "stdout",
     "output_type": "stream",
     "text": [
      "an instance created:Laptop\n",
      "an instance created:Mobile\n"
     ]
    }
   ],
   "source": [
    "class Item:\n",
    "    def __init__(self,name):\n",
    "        print(f\"an instance created:{name}\")\n",
    "        self.name=name\n",
    "\n",
    "item1=Item(\"Laptop\")\n",
    "# item1.name=\"Phone\" since , written self.name=name , we cn remove this line\n",
    "item2=Item(\"Mobile\")\n",
    "print(item1.name)\n",
    "print(item2.name)"
   ]
  },
  {
   "cell_type": "code",
   "execution_count": 5,
   "id": "af310c67-f5b4-4092-8e03-e197bbc05d6b",
   "metadata": {},
   "outputs": [
    {
     "name": "stdout",
     "output_type": "stream",
     "text": [
      "pHONE\n"
     ]
    },
    {
     "data": {
      "text/plain": [
       "300"
      ]
     },
     "execution_count": 5,
     "metadata": {},
     "output_type": "execute_result"
    }
   ],
   "source": [
    "class Item:\n",
    "    def __init__(self,name,price,qty):\n",
    "        self.name=name\n",
    "        self.price=price\n",
    "        self.qty=qty\n",
    "    def calculate_total_prices(self):\n",
    "        return self.price*self.qty\n",
    "\n",
    "item1=Item(\"pHONE\",100,3)\n",
    "print(item1.name)\n",
    "item1.calculate_total_prices()"
   ]
  },
  {
   "cell_type": "code",
   "execution_count": 11,
   "id": "42bd05a5-825f-43ce-9180-acafbaaf0627",
   "metadata": {},
   "outputs": [
    {
     "name": "stdout",
     "output_type": "stream",
     "text": [
      "100\n",
      "0\n"
     ]
    }
   ],
   "source": [
    "#makind default qty=0 and then checking\n",
    "class Item:\n",
    "    def __init__(self,name,price,qty=0):\n",
    "        self.name=name\n",
    "        self.price=price\n",
    "        self.qty=qty\n",
    "\n",
    "    def calculate_total_price(self):\n",
    "        return self.price*self.qty\n",
    "\n",
    "item1=Item(\"Phone\",100,1)\n",
    "item2=Item(\"Laptop\",140)\n",
    "\n",
    "print(item1.calculate_total_price())\n",
    "print(item2.calculate_total_price())"
   ]
  },
  {
   "cell_type": "code",
   "execution_count": 1,
   "id": "ca8ff2c6-00ae-4788-ad45-5f03638fd370",
   "metadata": {},
   "outputs": [
    {
     "name": "stdout",
     "output_type": "stream",
     "text": [
      "100\n",
      "3000\n"
     ]
    }
   ],
   "source": [
    "\n",
    "class Item:\n",
    "    def __init__(self, name: str, price: float, qty: int = 0):\n",
    "        # Run validations to the received arguments\n",
    "        # assert price >= 0, \"Price must be non-negative\"\n",
    "        # assert qty >= 0, \"Quantity must be non-negative\"\n",
    "\n",
    "        # Assign to self object\n",
    "        self.name = name\n",
    "        self.price = price\n",
    "        self.qty = qty\n",
    "\n",
    "    def calculate_total_price(self) -> float:\n",
    "        return self.price * self.qty\n",
    "\n",
    "\n",
    "# Creating item instances\n",
    "item1 = Item(\"Phone\", \"100\", 1)\n",
    "item2 = Item(\"Laptop\", 1000, 3)\n",
    "\n",
    "# Printing total price calculations\n",
    "print(item1.calculate_total_price())  \n",
    "print(item2.calculate_total_price())  \n"
   ]
  },
  {
   "cell_type": "code",
   "execution_count": 7,
   "id": "6af78cc5-c1fb-4dc1-974d-cd33642b5f32",
   "metadata": {},
   "outputs": [
    {
     "name": "stdout",
     "output_type": "stream",
     "text": [
      "100\n",
      "3000\n"
     ]
    }
   ],
   "source": [
    "class Item:\n",
    "    def __init__(self, name: str, price: float, qty: int = 0):\n",
    "        \n",
    "        assert price >= 0, \"Price must be non-negative\"\n",
    "        assert qty >= 0, \"Quantity must be non-negative\"\n",
    "\n",
    "        # Assign to self object\n",
    "        self.name = name\n",
    "        self.price = price\n",
    "        self.qty = qty\n",
    "\n",
    "    def calculate_total_price(self) :\n",
    "        return self.price * self.qty\n",
    "\n",
    "\n",
    "# Creating item instances\n",
    "item1 = Item(\"Phone\", 100, 1)\n",
    "item2 = Item(\"Laptop\", 1000, 3)\n",
    "\n",
    "print(item1.calculate_total_price())  \n",
    "print(item2.calculate_total_price())  \n"
   ]
  },
  {
   "cell_type": "code",
   "execution_count": 2,
   "id": "911d60aa-3241-404d-b10f-cf237adcfe42",
   "metadata": {},
   "outputs": [
    {
     "ename": "TypeError",
     "evalue": "'>=' not supported between instances of 'str' and 'int'",
     "output_type": "error",
     "traceback": [
      "\u001b[1;31m---------------------------------------------------------------------------\u001b[0m",
      "\u001b[1;31mTypeError\u001b[0m                                 Traceback (most recent call last)",
      "Cell \u001b[1;32mIn[2], line 17\u001b[0m\n\u001b[0;32m     13\u001b[0m         \u001b[38;5;28;01mreturn\u001b[39;00m \u001b[38;5;28mself\u001b[39m\u001b[38;5;241m.\u001b[39mprice \u001b[38;5;241m*\u001b[39m \u001b[38;5;28mself\u001b[39m\u001b[38;5;241m.\u001b[39mqty\n\u001b[0;32m     16\u001b[0m \u001b[38;5;66;03m# Creating item instances\u001b[39;00m\n\u001b[1;32m---> 17\u001b[0m item1 \u001b[38;5;241m=\u001b[39m \u001b[43mItem\u001b[49m\u001b[43m(\u001b[49m\u001b[38;5;124;43m\"\u001b[39;49m\u001b[38;5;124;43mPhone\u001b[39;49m\u001b[38;5;124;43m\"\u001b[39;49m\u001b[43m,\u001b[49m\u001b[43m \u001b[49m\u001b[38;5;124;43m\"\u001b[39;49m\u001b[38;5;124;43m100\u001b[39;49m\u001b[38;5;124;43m\"\u001b[39;49m\u001b[43m,\u001b[49m\u001b[43m \u001b[49m\u001b[38;5;241;43m1\u001b[39;49m\u001b[43m)\u001b[49m\n\u001b[0;32m     18\u001b[0m item2 \u001b[38;5;241m=\u001b[39m Item(\u001b[38;5;124m\"\u001b[39m\u001b[38;5;124mLaptop\u001b[39m\u001b[38;5;124m\"\u001b[39m, \u001b[38;5;241m1000\u001b[39m, \u001b[38;5;241m3\u001b[39m)\n\u001b[0;32m     20\u001b[0m \u001b[38;5;28mprint\u001b[39m(item1\u001b[38;5;241m.\u001b[39mcalculate_total_price())  \n",
      "Cell \u001b[1;32mIn[2], line 4\u001b[0m, in \u001b[0;36mItem.__init__\u001b[1;34m(self, name, price, qty)\u001b[0m\n\u001b[0;32m      2\u001b[0m \u001b[38;5;28;01mdef\u001b[39;00m \u001b[38;5;21m__init__\u001b[39m(\u001b[38;5;28mself\u001b[39m, name: \u001b[38;5;28mstr\u001b[39m, price: \u001b[38;5;28mfloat\u001b[39m, qty: \u001b[38;5;28mint\u001b[39m \u001b[38;5;241m=\u001b[39m \u001b[38;5;241m0\u001b[39m):\n\u001b[1;32m----> 4\u001b[0m     \u001b[38;5;28;01massert\u001b[39;00m \u001b[43mprice\u001b[49m\u001b[43m \u001b[49m\u001b[38;5;241;43m>\u001b[39;49m\u001b[38;5;241;43m=\u001b[39;49m\u001b[43m \u001b[49m\u001b[38;5;241;43m0\u001b[39;49m, \u001b[38;5;124mf\u001b[39m\u001b[38;5;124m\"\u001b[39m\u001b[38;5;124mPrice \u001b[39m\u001b[38;5;132;01m{\u001b[39;00mprice\u001b[38;5;132;01m}\u001b[39;00m\u001b[38;5;124m must be non-negative\u001b[39m\u001b[38;5;124m\"\u001b[39m\n\u001b[0;32m      5\u001b[0m     \u001b[38;5;28;01massert\u001b[39;00m qty \u001b[38;5;241m>\u001b[39m\u001b[38;5;241m=\u001b[39m \u001b[38;5;241m0\u001b[39m, \u001b[38;5;124mf\u001b[39m\u001b[38;5;124m\"\u001b[39m\u001b[38;5;124mQuantity \u001b[39m\u001b[38;5;132;01m{\u001b[39;00mquantity\u001b[38;5;132;01m}\u001b[39;00m\u001b[38;5;124m must be non-negative\u001b[39m\u001b[38;5;124m\"\u001b[39m\n\u001b[0;32m      7\u001b[0m     \u001b[38;5;66;03m# Assign to self object\u001b[39;00m\n",
      "\u001b[1;31mTypeError\u001b[0m: '>=' not supported between instances of 'str' and 'int'"
     ]
    }
   ],
   "source": [
    "class Item:\n",
    "    def __init__(self, name: str, price: float, qty: int = 0):\n",
    "        \n",
    "        assert price >= 0, f\"Price {price} must be non-negative\"\n",
    "        assert qty >= 0, f\"Quantity {quantity} must be non-negative\"\n",
    "\n",
    "        # Assign to self object\n",
    "        self.name = name\n",
    "        self.price = price\n",
    "        self.qty = qty\n",
    "\n",
    "    def calculate_total_price(self) :\n",
    "        return self.price * self.qty\n",
    "\n",
    "\n",
    "# Creating item instances\n",
    "item1 = Item(\"Phone\", \"100\", 1)\n",
    "item2 = Item(\"Laptop\", 1000, 3)\n",
    "\n",
    "print(item1.calculate_total_price())  \n",
    "print(item2.calculate_total_price())  "
   ]
  },
  {
   "cell_type": "code",
   "execution_count": 3,
   "id": "fda73ae5",
   "metadata": {},
   "outputs": [
    {
     "name": "stdout",
     "output_type": "stream",
     "text": [
      "100\n",
      "3000\n"
     ]
    }
   ],
   "source": [
    "class Item:\n",
    "    def __init__(self, name: str, price: float, qty: int = 0):\n",
    "        \n",
    "        assert price >= 0, f\"Price {price} must be non-negative\"\n",
    "        assert qty >= 0, f\"Quantity {quantity} must be non-negative\"\n",
    "\n",
    "        # Assign to self object\n",
    "        self.name = name\n",
    "        self.price = price\n",
    "        self.qty = qty\n",
    "\n",
    "    def calculate_total_price(self) :\n",
    "        return self.price * self.qty\n",
    "\n",
    "\n",
    "# Creating item instances\n",
    "item1 = Item(\"Phone\", 100, 1)\n",
    "item2 = Item(\"Laptop\", 1000, 3)\n",
    "\n",
    "print(item1.calculate_total_price())  \n",
    "print(item2.calculate_total_price())  "
   ]
  },
  {
   "cell_type": "code",
   "execution_count": 5,
   "id": "458678b1",
   "metadata": {},
   "outputs": [
    {
     "name": "stdout",
     "output_type": "stream",
     "text": [
      "0.8\n",
      "0.8\n",
      "0.8\n"
     ]
    }
   ],
   "source": [
    "class Item:\n",
    "    pay_rate=0.8 #the pay rate after 20% discount\n",
    "    def __init__(self,name:str,price:float,quantity=0):\n",
    "        assert price>=0,f\"Price {price} is not greater \"\n",
    "        assert quantity>=0,f\"Quantity {quantity} is not greater than \"\n",
    "        \n",
    "        self.name=name\n",
    "        self.price=price\n",
    "        self.quantity=quantity\n",
    "        \n",
    "        def calculate_total_price(qty):\n",
    "            return self.price * self.quantity\n",
    "    \n",
    "\n",
    "        \n",
    "item1=Item(\"Phone\",100,1)\n",
    "item2=Item(\"Laptop\",1000,3)\n",
    "\n",
    "\n",
    "print(Item.pay_rate)\n",
    "print(item1.pay_rate)\n",
    "print(item2.pay_rate)\n"
   ]
  },
  {
   "cell_type": "code",
   "execution_count": 6,
   "id": "c02dabc7",
   "metadata": {},
   "outputs": [
    {
     "name": "stdout",
     "output_type": "stream",
     "text": [
      "0.8\n",
      "0.8\n",
      "0.8\n"
     ]
    }
   ],
   "source": [
    "class Item:\n",
    "    pay_rate=0.8 #the pay rate after 20% discount\n",
    "    def __init__(self,name:str,price:float,quantity=0):\n",
    "        assert price>=0,f\"Price {price} is not greater \"\n",
    "        assert quantity>=0,f\"Quantity {quantity} is not greater than \"\n",
    "        \n",
    "        self.name=name\n",
    "        self.price=price\n",
    "        self.quantity=quantity\n",
    "        \n",
    "        def calculate_total_price(qty):\n",
    "            return self.price * self.quantity\n",
    "\n",
    "        def apply_discount(self):\n",
    "            self.price=self.price * pay_rate\n",
    "        \n",
    "        \n",
    "        \n",
    "item1=Item(\"Phone\",100,1)\n",
    "item2=Item(\"Laptop\",1000,3)\n",
    "item3=Item(\"Cable\",10,5)\n",
    "item4=Item(\"House\",58,5)\n",
    "item5=Item(\"Keyboard\",75,5)\n",
    "\n",
    "\n",
    "\n",
    "print(Item.pay_rate)\n",
    "print(item1.pay_rate)\n",
    "print(item2.pay_rate)\n"
   ]
  },
  {
   "cell_type": "code",
   "execution_count": 10,
   "id": "6ef23a01",
   "metadata": {},
   "outputs": [
    {
     "name": "stdout",
     "output_type": "stream",
     "text": [
      "Phone\n",
      "Laptop\n",
      "Cable\n",
      "Mouse\n",
      "Keyboard\n",
      "\n",
      "\n",
      "100\n",
      "1000\n",
      "10\n",
      "50\n",
      "75\n"
     ]
    }
   ],
   "source": [
    "class Item:\n",
    "    pay_rate=0.8 #the pay rate after 20% discount\n",
    "    all=[]\n",
    "    def __init__(self,name:str,price:float,quantity=0):\n",
    "        assert price>=0,f\"Price {price} is not greater \"\n",
    "        assert quantity>=0,f\"Quantity {quantity} is not greater than \"\n",
    "        \n",
    "        #assign to self object\n",
    "        self.name=name\n",
    "        self.price=price\n",
    "        self.quantity=quantity\n",
    "        \n",
    "        #actions to execute\n",
    "        Item.all.append(self)\n",
    "        \n",
    "        def calculate_total_price(qty):\n",
    "            return self.price * self.quantity\n",
    "        \n",
    "        def apply_discount(self):\n",
    "            self.price=self.price*self.pay_rate\n",
    "        \n",
    "item1=Item(\"Phone\",100,1)\n",
    "item2=Item(\"Laptop\",1000,3)\n",
    "item3=Item(\"Cable\",10,5)\n",
    "item4=Item(\"Mouse\",50,5)\n",
    "item5=Item(\"Keyboard\",75,5)\n",
    "\n",
    "##Saare items ka name aajayega\n",
    "for instance in Item.all:\n",
    "    print(instance.name)\n",
    "print(\"\\n\")\n",
    "for instance in Item.all:\n",
    "    print(instance.price)"
   ]
  },
  {
   "cell_type": "markdown",
   "id": "65b154dd",
   "metadata": {},
   "source": [
    "## __repr__ ##"
   ]
  },
  {
   "cell_type": "markdown",
   "id": "cbe8a601",
   "metadata": {},
   "source": []
  },
  {
   "cell_type": "code",
   "execution_count": 19,
   "id": "623b540a",
   "metadata": {},
   "outputs": [
    {
     "name": "stdout",
     "output_type": "stream",
     "text": [
      "[Item('Phone',100,1) , Item('Laptop',1000,3) , Item('Cable',10,5) , Item('Mouse',50,5) , Item('Keyboard',75,5) ]\n",
      "Item('Phone',100,1) \n"
     ]
    }
   ],
   "source": [
    "class Item:\n",
    "    pay_rate=0.8 #the pay rate after 20% discount\n",
    "    all=[]\n",
    "    def __init__(self,name:str,price:float,quantity=0):\n",
    "        assert price>=0,f\"Price {price} is not greater \"\n",
    "        assert quantity>=0,f\"Quantity {quantity} is not greater than \"\n",
    "        \n",
    "        #assign to self object\n",
    "        self.name=name\n",
    "        self.price=price\n",
    "        self.quantity=quantity\n",
    "        \n",
    "        #actions to execute\n",
    "        Item.all.append(self)\n",
    "        \n",
    "        def calculate_total_price(qty):\n",
    "            return self.price * self.quantity\n",
    "        \n",
    "        def apply_discount(self):\n",
    "            self.price=self.price*self.pay_rate\n",
    "            \n",
    "    def __repr__(self):\n",
    "        return f\"Item('{self.name}',{self.price},{self.quantity}) \"\n",
    "            \n",
    "item1=Item(\"Phone\",100,1)\n",
    "item2=Item(\"Laptop\",1000,3)\n",
    "item3=Item(\"Cable\",10,5)\n",
    "item4=Item(\"Mouse\",50,5)\n",
    "item5=Item(\"Keyboard\",75,5)\n",
    "\n",
    "print(Item.all)\n",
    "print(item1)\n",
    "\n",
    "##Saare items ka name aajayega\n",
    "# for instance in Item.all:\n",
    "#     print(instance.name)\n",
    "# print(\"\\n\")\n",
    "# for instance in Item.all:\n",
    "#     print(instance.price)"
   ]
  },
  {
   "cell_type": "markdown",
   "id": "cab21895",
   "metadata": {},
   "source": [
    "### class vs static methods ###"
   ]
  },
  {
   "cell_type": "code",
   "execution_count": 29,
   "id": "c87cdd62",
   "metadata": {},
   "outputs": [
    {
     "name": "stdout",
     "output_type": "stream",
     "text": [
      "['name', 'price', 'quantity']\n",
      "['Phone', '100', '1']\n",
      "['Laptop', '1000', '3']\n",
      "['Cable', '10', '5']\n",
      "['House', '50', '5']\n",
      "['Keyboard', '75', '5']\n"
     ]
    }
   ],
   "source": [
    "#objective is to nstatntiate from csv\n",
    "#meaning we dont manually create and instead directly import form csv\n",
    "import csv\n",
    "\n",
    "class Item:\n",
    "    pay_rate = 0.8  # the pay rate after 20% discount\n",
    "    all = []\n",
    "\n",
    "    def __init__(self, name: str, price: float, quantity=0):\n",
    "        assert price >= 0, f\"Price {price} is not greater \"\n",
    "        assert quantity >= 0, f\"Quantity {quantity} is not greater than \"\n",
    "\n",
    "        # assign to self object\n",
    "        self.name = name\n",
    "        self.price = price\n",
    "        self.quantity = quantity\n",
    "\n",
    "        # actions to execute\n",
    "        Item.all.append(self)\n",
    "\n",
    "    def calculate_total_price(self):\n",
    "        return self.price * self.quantity\n",
    "\n",
    "    def apply_discount(self):\n",
    "        self.price = self.price * self.pay_rate  # Using self.pay_rate is fine here\n",
    "\n",
    "    @classmethod\n",
    "    def instantiate_from_csv(cls):\n",
    "        # open the csv file\n",
    "        with open('items.csv', 'r') as d:\n",
    "            reader = csv.reader(d) \n",
    "            items = list(reader)\n",
    "\n",
    "\n",
    "        for item in items:\n",
    "           print(item)\n",
    "\n",
    "    def __repr__(self):\n",
    "        return f\"Item('{self.name}', {self.price}, {self.quantity})\"\n",
    "\n",
    "\n",
    "\n",
    "\n",
    "Item.instantiate_from_csv()\n",
    "\n"
   ]
  },
  {
   "cell_type": "code",
   "execution_count": 2,
   "id": "28a66994",
   "metadata": {},
   "outputs": [
    {
     "name": "stdout",
     "output_type": "stream",
     "text": [
      "[Item('Phone', 100.0, 1), Item('Laptop', 1000.0, 3), Item('Cable', 10.0, 5), Item('House', 50.0, 5), Item('Keyboard', 75.0, 5)]\n"
     ]
    },
    {
     "ename": "NameError",
     "evalue": "name 'item1' is not defined",
     "output_type": "error",
     "traceback": [
      "\u001b[1;31m---------------------------------------------------------------------------\u001b[0m",
      "\u001b[1;31mNameError\u001b[0m                                 Traceback (most recent call last)",
      "Cell \u001b[1;32mIn[2], line 52\u001b[0m\n\u001b[0;32m     50\u001b[0m Item\u001b[38;5;241m.\u001b[39minstantiate_from_csv()\n\u001b[0;32m     51\u001b[0m \u001b[38;5;28mprint\u001b[39m(Item\u001b[38;5;241m.\u001b[39mall)\n\u001b[1;32m---> 52\u001b[0m \u001b[38;5;28mprint\u001b[39m(\u001b[43mitem1\u001b[49m\u001b[38;5;241m.\u001b[39mname)\n",
      "\u001b[1;31mNameError\u001b[0m: name 'item1' is not defined"
     ]
    }
   ],
   "source": [
    "#objective is to nstatntiate from csv\n",
    "#meaning we dont manually create and instead directly import form csv\n",
    "import csv\n",
    "\n",
    "class Item:\n",
    "    pay_rate = 0.8  # the pay rate after 20% discount\n",
    "    all = []\n",
    "\n",
    "    def __init__(self, name: str, price: float, quantity=0):\n",
    "        assert price >= 0, f\"Price {price} is not greater \"\n",
    "        assert quantity >= 0, f\"Quantity {quantity} is not greater than \"\n",
    "\n",
    "        # assign to self object\n",
    "        self.name = name\n",
    "        self.price = price\n",
    "        self.quantity = quantity\n",
    "\n",
    "        # actions to execute\n",
    "        Item.all.append(self)\n",
    "\n",
    "    def calculate_total_price(self):\n",
    "        return self.price * self.quantity\n",
    "\n",
    "    def apply_discount(self):\n",
    "        self.price = self.price * self.pay_rate  # Using self.pay_rate is fine here\n",
    "\n",
    "    @classmethod\n",
    "    def instantiate_from_csv(cls):\n",
    "        # open the csv file\n",
    "        with open('items.csv', 'r') as d:\n",
    "            reader = csv.DictReader(d)  # ✅ Fix: Use DictReader instead of csv.reader\n",
    "            items = list(reader)\n",
    "\n",
    "        for item in items:\n",
    "            Item(  # ✅ Fix: Removed unnecessary comma\n",
    "                name=item['name'],\n",
    "                price=float(item['price']),  # ✅ Fix: Convert to float instead of int\n",
    "                quantity=int(item['quantity'])\n",
    "            )\n",
    "\n",
    "    def __repr__(self):\n",
    "        return f\"Item('{self.name}', {self.price}, {self.quantity})\"\n",
    "           \n",
    "\n",
    "    \n",
    "\n",
    "\n",
    "\n",
    "\n",
    "Item.instantiate_from_csv()\n",
    "print(Item.all)\n",
    "print(item1.name)\n",
    "\n"
   ]
  }
 ],
 "metadata": {
  "kernelspec": {
   "display_name": "Python 3",
   "language": "python",
   "name": "python3"
  },
  "language_info": {
   "codemirror_mode": {
    "name": "ipython",
    "version": 3
   },
   "file_extension": ".py",
   "mimetype": "text/x-python",
   "name": "python",
   "nbconvert_exporter": "python",
   "pygments_lexer": "ipython3",
   "version": "3.12.2"
  }
 },
 "nbformat": 4,
 "nbformat_minor": 5
}
