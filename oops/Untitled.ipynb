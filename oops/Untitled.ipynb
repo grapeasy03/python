{
 "cells": [
  {
   "cell_type": "code",
   "execution_count": 1,
   "id": "42d19c2f-04e3-4132-93c2-d17581a03ca5",
   "metadata": {},
   "outputs": [
    {
     "name": "stdout",
     "output_type": "stream",
     "text": [
      "[1, 2, 3, 4, 'x']\n"
     ]
    }
   ],
   "source": [
    "ls=[1,2,3,4,'x']\n",
    "print(ls)"
   ]
  },
  {
   "cell_type": "code",
   "execution_count": 3,
   "id": "678810e1-635e-4928-af55-978917d196a0",
   "metadata": {},
   "outputs": [
    {
     "name": "stdin",
     "output_type": "stream",
     "text": [
      "Enter a value 1\n",
      "Enter a value asd\n",
      "Enter a value ssdd\n"
     ]
    }
   ],
   "source": [
    "for i in range(3):\n",
    "    ls.append(input(\"Enter a value\"))\n"
   ]
  },
  {
   "cell_type": "code",
   "execution_count": 5,
   "id": "84ff0a5a-1021-4c63-880a-40acd63b0e06",
   "metadata": {},
   "outputs": [
    {
     "name": "stdout",
     "output_type": "stream",
     "text": [
      "[1, 2, 3, 4, 'x', '1', 'asd', 'ssdd']\n"
     ]
    }
   ],
   "source": [
    "print(ls)"
   ]
  },
  {
   "cell_type": "code",
   "execution_count": 9,
   "id": "f952c4d4-4782-4e20-8eb8-ed6b3b6a61a8",
   "metadata": {},
   "outputs": [
    {
     "name": "stdout",
     "output_type": "stream",
     "text": [
      "{'Mike': 25, 'Jack': 23, 'Tom': 20}\n"
     ]
    }
   ],
   "source": [
    "d={'Mike':25,'Jack':23,'Tom':20}\n",
    "print(d)"
   ]
  },
  {
   "cell_type": "code",
   "execution_count": 11,
   "id": "e386227a-cf43-48bd-b0e2-8babc0edf29b",
   "metadata": {},
   "outputs": [],
   "source": [
    "d['Jerry']=21"
   ]
  },
  {
   "cell_type": "code",
   "execution_count": 13,
   "id": "d6c483f8-f513-4d36-a9d3-34487f3a5dae",
   "metadata": {},
   "outputs": [
    {
     "name": "stdout",
     "output_type": "stream",
     "text": [
      "{'Mike': 25, 'Jack': 23, 'Tom': 20, 'Jerry': 21}\n"
     ]
    }
   ],
   "source": [
    "print(d)"
   ]
  },
  {
   "cell_type": "code",
   "execution_count": 15,
   "id": "1a37c744-95d1-41ff-9a11-f4631517c7fc",
   "metadata": {},
   "outputs": [
    {
     "name": "stdout",
     "output_type": "stream",
     "text": [
      "dict_items([('Mike', 25), ('Jack', 23), ('Tom', 20), ('Jerry', 21)])\n"
     ]
    }
   ],
   "source": [
    "print(d.items())"
   ]
  },
  {
   "cell_type": "code",
   "execution_count": 19,
   "id": "6902fe5b-5d62-4b6c-8f63-8463d9e3d753",
   "metadata": {},
   "outputs": [
    {
     "name": "stdout",
     "output_type": "stream",
     "text": [
      "[('Mike', 25), ('Jack', 23), ('Tom', 20), ('Jerry', 21)]\n"
     ]
    }
   ],
   "source": [
    "print(list(d.items()))"
   ]
  },
  {
   "cell_type": "code",
   "execution_count": 25,
   "id": "c53b5339-ecdf-41a8-a068-74fd31ec661e",
   "metadata": {},
   "outputs": [
    {
     "name": "stdout",
     "output_type": "stream",
     "text": [
      "0    10\n",
      "1    20\n",
      "2    30\n",
      "3    40\n",
      "dtype: int64\n"
     ]
    }
   ],
   "source": [
    "import pandas as pd\n",
    "s=pd.Series([10,20,30,40])\n",
    "print(s)"
   ]
  },
  {
   "cell_type": "code",
   "execution_count": 33,
   "id": "a79fd469-f5f6-445e-a3dd-3e8f6eea5b1b",
   "metadata": {},
   "outputs": [],
   "source": [
    "#give my own index\n",
    "s=pd.Series([10,20,30,40],index=['first','second','third','fourth'])"
   ]
  },
  {
   "cell_type": "code",
   "execution_count": null,
   "id": "8690b7f6-c153-42ea-8891-584c6218cb1d",
   "metadata": {},
   "outputs": [],
   "source": []
  }
 ],
 "metadata": {
  "kernelspec": {
   "display_name": "Python 3 (ipykernel)",
   "language": "python",
   "name": "python3"
  },
  "language_info": {
   "codemirror_mode": {
    "name": "ipython",
    "version": 3
   },
   "file_extension": ".py",
   "mimetype": "text/x-python",
   "name": "python",
   "nbconvert_exporter": "python",
   "pygments_lexer": "ipython3",
   "version": "3.12.7"
  }
 },
 "nbformat": 4,
 "nbformat_minor": 5
}
