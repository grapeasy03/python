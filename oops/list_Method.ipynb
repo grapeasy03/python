{
 "cells": [
  {
   "cell_type": "code",
   "execution_count": 21,
   "id": "ed348dea-ff78-4a3e-a19c-95dc7738e500",
   "metadata": {},
   "outputs": [],
   "source": [
    "l=[11,42,1,2,3,9,8]\n"
   ]
  },
  {
   "cell_type": "code",
   "execution_count": 13,
   "id": "fd005047-bb07-4f1a-a6f8-82fac2841817",
   "metadata": {},
   "outputs": [
    {
     "name": "stdout",
     "output_type": "stream",
     "text": [
      "[42, 11, 9, 8, 3, 2, 1]\n"
     ]
    }
   ],
   "source": [
    "l.sort(reverse=True)\n",
    "print(l)"
   ]
  },
  {
   "cell_type": "code",
   "execution_count": 23,
   "id": "56a600a6-6bfa-41b8-8621-54f2eb0d96bd",
   "metadata": {},
   "outputs": [
    {
     "name": "stdout",
     "output_type": "stream",
     "text": [
      "[1, 2, 3, 8, 9, 11, 42]\n"
     ]
    }
   ],
   "source": [
    "l.sort()\n",
    "print(l)"
   ]
  },
  {
   "cell_type": "code",
   "execution_count": 25,
   "id": "bfdbf311-2cbd-4bf5-ad79-a6b33faf3079",
   "metadata": {},
   "outputs": [
    {
     "name": "stdout",
     "output_type": "stream",
     "text": [
      "[42, 11, 9, 8, 3, 2, 1]\n"
     ]
    }
   ],
   "source": [
    "l.reverse()\n",
    "print(l)"
   ]
  },
  {
   "cell_type": "code",
   "execution_count": 27,
   "id": "f6454900-eb89-443d-b67d-432432e53fac",
   "metadata": {},
   "outputs": [
    {
     "data": {
      "text/plain": [
       "5"
      ]
     },
     "execution_count": 27,
     "metadata": {},
     "output_type": "execute_result"
    }
   ],
   "source": [
    "l.index(2)"
   ]
  },
  {
   "cell_type": "code",
   "execution_count": 29,
   "id": "3b014d0b-38de-4d9b-8321-e7dc9db03031",
   "metadata": {},
   "outputs": [
    {
     "data": {
      "text/plain": [
       "1"
      ]
     },
     "execution_count": 29,
     "metadata": {},
     "output_type": "execute_result"
    }
   ],
   "source": [
    "l.count(1)"
   ]
  },
  {
   "cell_type": "code",
   "execution_count": 31,
   "id": "a20851e6-d5ac-43c6-b50c-b9341e01fa01",
   "metadata": {},
   "outputs": [],
   "source": [
    "l.insert(1,20)"
   ]
  },
  {
   "cell_type": "code",
   "execution_count": 33,
   "id": "ca6db2af-5356-474f-8a6b-2fb40ced5f54",
   "metadata": {},
   "outputs": [
    {
     "name": "stdout",
     "output_type": "stream",
     "text": [
      "[42, 20, 11, 9, 8, 3, 2, 1]\n"
     ]
    }
   ],
   "source": [
    "print(l)"
   ]
  },
  {
   "cell_type": "code",
   "execution_count": 35,
   "id": "dae38cf1-e9a0-4f27-8a05-d34d9857200b",
   "metadata": {},
   "outputs": [
    {
     "name": "stdout",
     "output_type": "stream",
     "text": [
      "{2, 4, 5}\n"
     ]
    }
   ],
   "source": [
    "s={2,4,2,5}\n",
    "print(s)"
   ]
  },
  {
   "cell_type": "code",
   "execution_count": 37,
   "id": "17294a57-15ad-425c-a9c0-208efce19301",
   "metadata": {},
   "outputs": [
    {
     "name": "stdout",
     "output_type": "stream",
     "text": [
      "{2, 4, 42, 6}\n"
     ]
    }
   ],
   "source": [
    "s={2,4,42,6}\n",
    "print(s)"
   ]
  },
  {
   "cell_type": "code",
   "execution_count": 39,
   "id": "59617c2c-681e-4df3-b890-a72b45ff281d",
   "metadata": {},
   "outputs": [
    {
     "name": "stdout",
     "output_type": "stream",
     "text": [
      "{2, 4, 42, 6}\n"
     ]
    }
   ],
   "source": [
    "s={2,4,4,42,6}\n",
    "print(s)"
   ]
  },
  {
   "cell_type": "code",
   "execution_count": 41,
   "id": "2b9652ad-72bb-4ab7-b8a0-fddfdc657f9d",
   "metadata": {},
   "outputs": [
    {
     "name": "stdout",
     "output_type": "stream",
     "text": [
      "{False, 19, 5.9, 'Carla', 10}\n"
     ]
    }
   ],
   "source": [
    "#Setrs are unordered collection of data items.They store multiple items in single variable\n",
    "info={\"Carla\",19,False,5.9,10}\n",
    "print(info)"
   ]
  },
  {
   "cell_type": "code",
   "execution_count": 2,
   "id": "faad7164-e5ef-41f1-ab33-80b6d04d8924",
   "metadata": {},
   "outputs": [
    {
     "name": "stdout",
     "output_type": "stream",
     "text": [
      "{1, 2, 3, 5, 6, 7}\n"
     ]
    }
   ],
   "source": [
    "s1={1,2,5,6}\n",
    "s2={3,6,7}\n",
    "print(s1.union(s2))"
   ]
  },
  {
   "cell_type": "code",
   "execution_count": 3,
   "id": "0d628f5a-9e4a-44c3-840d-e2fe0c62fb27",
   "metadata": {},
   "outputs": [
    {
     "name": "stdout",
     "output_type": "stream",
     "text": [
      "{1, 2, 3, 5, 6, 7}\n"
     ]
    }
   ],
   "source": [
    "s1.update(s2)\n",
    "print(s1)"
   ]
  },
  {
   "cell_type": "code",
   "execution_count": 49,
   "id": "d329fde8-f52e-4f5a-a202-fbc4c9df707f",
   "metadata": {},
   "outputs": [
    {
     "name": "stdout",
     "output_type": "stream",
     "text": [
      "{'agra'}\n"
     ]
    }
   ],
   "source": [
    "cities1={'delhi','agra'}\n",
    "cities2={'jalandhar','agra'}\n",
    "cities3=cities1.intersection(cities2)\n",
    "print(cities3)"
   ]
  },
  {
   "cell_type": "code",
   "execution_count": 53,
   "id": "de0235ba-8058-4f7a-a060-a401e3427e5d",
   "metadata": {},
   "outputs": [
    {
     "name": "stdout",
     "output_type": "stream",
     "text": [
      "{'delhi'}\n"
     ]
    }
   ],
   "source": [
    "cities1={'delhi','agra'}\n",
    "cities2={'jalandhar','agra'}\n",
    "cities3=cities1.difference(cities2)\n",
    "print(cities3)"
   ]
  },
  {
   "cell_type": "code",
   "execution_count": 57,
   "id": "d62fbb36-b1fc-4079-b61f-887d2a8c61af",
   "metadata": {},
   "outputs": [
    {
     "name": "stdout",
     "output_type": "stream",
     "text": [
      "False\n"
     ]
    }
   ],
   "source": [
    "print(cities1.isdisjoint(cities2))"
   ]
  },
  {
   "cell_type": "code",
   "execution_count": null,
   "id": "479963cc-731b-4fb7-bddb-78ea2edd0371",
   "metadata": {},
   "outputs": [],
   "source": []
  }
 ],
 "metadata": {
  "kernelspec": {
   "display_name": "Python 3",
   "language": "python",
   "name": "python3"
  },
  "language_info": {
   "codemirror_mode": {
    "name": "ipython",
    "version": 3
   },
   "file_extension": ".py",
   "mimetype": "text/x-python",
   "name": "python",
   "nbconvert_exporter": "python",
   "pygments_lexer": "ipython3",
   "version": "3.12.2"
  }
 },
 "nbformat": 4,
 "nbformat_minor": 5
}
