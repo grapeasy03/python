{
 "cells": [
  {
   "cell_type": "code",
   "execution_count": 4,
   "metadata": {},
   "outputs": [],
   "source": [
    "import pymongo\n",
    "import pprint"
   ]
  },
  {
   "cell_type": "code",
   "execution_count": 6,
   "metadata": {},
   "outputs": [],
   "source": [
    "from pymongo import MongoClient\n",
    "\n",
    "\n",
    "client = MongoClient(\"mongodb://localhost:27017/\")\n",
    "\n",
    "# Create or connect to a database\n",
    "\n",
    "\n"
   ]
  },
  {
   "cell_type": "code",
   "execution_count": 7,
   "metadata": {},
   "outputs": [
    {
     "name": "stdout",
     "output_type": "stream",
     "text": [
      "['admin', 'config', 'local', 'mydatabase', 'mydatabases', 'production']\n"
     ]
    }
   ],
   "source": [
    "show_db=client.list_database_names()\n",
    "print(show_db)\n"
   ]
  },
  {
   "cell_type": "code",
   "execution_count": 8,
   "metadata": {},
   "outputs": [],
   "source": [
    "\n",
    "\n",
    "test_db = client[\"mydatabases\"]"
   ]
  },
  {
   "cell_type": "code",
   "execution_count": 9,
   "metadata": {},
   "outputs": [
    {
     "name": "stdout",
     "output_type": "stream",
     "text": [
      "['test']\n"
     ]
    }
   ],
   "source": [
    "collections=test_db.list_collection_names()\n",
    "print(collections)\n"
   ]
  },
  {
   "cell_type": "code",
   "execution_count": 10,
   "metadata": {},
   "outputs": [
    {
     "name": "stdout",
     "output_type": "stream",
     "text": [
      "67b9e5e23d098e31a53d14a2\n"
     ]
    }
   ],
   "source": [
    "collection = test_db[\"test\"]\n",
    "def insert_data():\n",
    "    collection=test_db.test\n",
    "    test_document={\n",
    "        \"name\":\"Kushu\",\n",
    "        \"type\":\"Test\"\n",
    "    }\n",
    "    inserted_id=collection.insert_one(test_document).inserted_id\n",
    "    print(inserted_id)\n",
    "insert_data()"
   ]
  },
  {
   "cell_type": "code",
   "execution_count": 11,
   "metadata": {},
   "outputs": [],
   "source": [
    "# to create a database\n",
    "production=client.production"
   ]
  },
  {
   "cell_type": "code",
   "execution_count": 13,
   "metadata": {},
   "outputs": [],
   "source": [
    "#to create a collection\n",
    "person_collection=production.person_collection\n"
   ]
  },
  {
   "cell_type": "code",
   "execution_count": 13,
   "metadata": {},
   "outputs": [],
   "source": [
    "def create_document():\n",
    "    person_document={\n",
    "        \"name\":\"Kushu\",\n",
    "        \"age\":20,\n",
    "        \n",
    "    }\n",
    "    inserted_id=person_collection.insert_one(person_document).inserted_id\n",
    "create_document()"
   ]
  },
  {
   "cell_type": "code",
   "execution_count": 15,
   "metadata": {},
   "outputs": [
    {
     "name": "stdout",
     "output_type": "stream",
     "text": [
      "[ObjectId('67b8a063d8d521826fd0ce74'), ObjectId('67b8a063d8d521826fd0ce75'), ObjectId('67b8a063d8d521826fd0ce76'), ObjectId('67b8a063d8d521826fd0ce77')]\n"
     ]
    }
   ],
   "source": [
    "#to add multiple documents\n",
    "def create_documents():\n",
    "    names=['naman','bathla','jastej dickhead','asshole aryan']\n",
    "    ages=[21,23,22,23]\n",
    "    docs=[]\n",
    "    for names,ages in zip(names,ages):\n",
    "        doc={\"name\":names,\"age\":ages}\n",
    "        docs.append(doc)\n",
    "    inserted_ids=person_collection.insert_many(docs).inserted_ids\n",
    "    print(inserted_ids)\n",
    "create_documents()\n",
    "\n",
    "\n",
    "\n",
    "\n"
   ]
  },
  {
   "cell_type": "code",
   "execution_count": 14,
   "metadata": {},
   "outputs": [
    {
     "name": "stdout",
     "output_type": "stream",
     "text": [
      "{'_id': ObjectId('67b89f0ed8d521826fd0ce73'), 'age': 20, 'name': 'Kushu'}\n",
      "{'_id': ObjectId('67b8a063d8d521826fd0ce74'), 'age': 21, 'name': 'naman'}\n",
      "{'_id': ObjectId('67b8a063d8d521826fd0ce75'), 'age': 23, 'name': 'bathla'}\n",
      "{'_id': ObjectId('67b8a063d8d521826fd0ce76'),\n",
      " 'age': 22,\n",
      " 'name': 'jastej dickhead'}\n",
      "{'_id': ObjectId('67b8a063d8d521826fd0ce77'),\n",
      " 'age': 23,\n",
      " 'name': 'asshole aryan'}\n"
     ]
    }
   ],
   "source": [
    "## to print all in one go\n",
    "def print_a():\n",
    "    people=person_collection.find()\n",
    "    for person in people:\n",
    "        pprint.pprint(person)\n",
    "        \n",
    "print_a()"
   ]
  },
  {
   "cell_type": "code",
   "execution_count": 21,
   "metadata": {},
   "outputs": [
    {
     "name": "stdout",
     "output_type": "stream",
     "text": [
      "Name: Kushu, Age: 20\n"
     ]
    }
   ],
   "source": [
    "def find_name(name):\n",
    "    person=person_collection.find_one({\"name\":name})\n",
    "    if person:\n",
    "        print(f\"Name: {person['name']}, Age: {person['age']}\")\n",
    "    else:\n",
    "        print(f\"No person  with name {name}\")\n",
    "\n",
    "find_name(\"Kushu\")\n",
    "\n",
    "\n"
   ]
  },
  {
   "cell_type": "code",
   "execution_count": 24,
   "metadata": {},
   "outputs": [
    {
     "name": "stdout",
     "output_type": "stream",
     "text": [
      "Name:Kushu, Age:20\n"
     ]
    }
   ],
   "source": [
    "##Case insensitive search\n",
    "def insensitive_s(name):\n",
    "    # select * from person_collection where name like '%name%'\n",
    "    person=person_collection.find_one({'name':{'$regex':name,'$options':'i'}})\n",
    "    if person:\n",
    "        print(f\"Name:{person['name']}, Age:{person['age']}\")\n",
    "    else:\n",
    "        print(f\"No person with name {name}\")\n",
    "\n",
    "insensitive_s(\"kushu\")\n"
   ]
  },
  {
   "cell_type": "code",
   "execution_count": 26,
   "metadata": {},
   "outputs": [
    {
     "name": "stdout",
     "output_type": "stream",
     "text": [
      "number of people 5\n"
     ]
    }
   ],
   "source": [
    "# count_all\n",
    "def count_all():\n",
    "    count=person_collection.count_documents(filter={})\n",
    "    print(\"number of people\",count)\n",
    "\n",
    "count_all()\n",
    "    "
   ]
  },
  {
   "cell_type": "code",
   "execution_count": 30,
   "metadata": {},
   "outputs": [
    {
     "name": "stdout",
     "output_type": "stream",
     "text": [
      "{'_id': ObjectId('67b8a063d8d521826fd0ce74'), 'age': 21, 'name': 'naman'}\n"
     ]
    }
   ],
   "source": [
    "def get_person_by_id(person_id):\n",
    "    from bson.objectid import ObjectId\n",
    "    _id=ObjectId(person_id)\n",
    "    person=person_collection.find_one({\"_id\":_id})\n",
    "    pprint.pprint(person)\n",
    "    \n",
    "    \n",
    "get_person_by_id(\"67b8a063d8d521826fd0ce74\")"
   ]
  },
  {
   "cell_type": "code",
   "execution_count": 16,
   "metadata": {},
   "outputs": [
    {
     "name": "stdout",
     "output_type": "stream",
     "text": [
      "{'_id': ObjectId('67b89f0ed8d521826fd0ce73'), 'age': 20, 'name': 'Kushu'}\n",
      "{'_id': ObjectId('67b8a063d8d521826fd0ce74'), 'age': 21, 'name': 'naman'}\n",
      "{'_id': ObjectId('67b8a063d8d521826fd0ce76'),\n",
      " 'age': 22,\n",
      " 'name': 'jastej dickhead'}\n",
      "{'_id': ObjectId('67b8a063d8d521826fd0ce75'), 'age': 23, 'name': 'bathla'}\n",
      "{'_id': ObjectId('67b8a063d8d521826fd0ce77'),\n",
      " 'age': 23,\n",
      " 'name': 'asshole aryan'}\n"
     ]
    }
   ],
   "source": [
    "def age_range(min_age,max_age):\n",
    "# \"\"\" \n",
    "# select * from person where age>=min_age and age<=max_age\"\"\"\n",
    "    query={\"$and\":[\n",
    "        {\"age\":{\"$gte\":min_age}},\n",
    "        {\"age\":{\"$lte\":max_age}}\n",
    "    ]}\n",
    "    people=person_collection.find(query).sort(\"age\")\n",
    "    for person in people:\n",
    "        pprint.pprint(person)\n",
    "\n",
    "age_range(20,25)\n"
   ]
  },
  {
   "cell_type": "code",
   "execution_count": 19,
   "metadata": {},
   "outputs": [
    {
     "name": "stdout",
     "output_type": "stream",
     "text": [
      "{'name': 'Kushu'}\n",
      "{'name': 'naman'}\n",
      "{'name': 'bathla'}\n",
      "{'name': 'jastej dickhead'}\n",
      "{'name': 'asshole aryan'}\n"
     ]
    }
   ],
   "source": [
    "def project_columns():\n",
    "    columns={\"_id\":0,\"name\":1}\n",
    "    people=person_collection.find({},columns)\n",
    "    for person in people:\n",
    "        pprint.pprint(person)\n",
    "\n",
    "project_columns()\n"
   ]
  },
  {
   "cell_type": "code",
   "execution_count": 20,
   "metadata": {},
   "outputs": [],
   "source": [
    "#update\n",
    "def update_person(person_id):\n",
    "    from bson.objectid import ObjectId\n",
    "    _id=ObjectId(person_id)\n",
    "    all_updates={\n",
    "        \"$set\":{\"new_field\":True},\n",
    "        \"$inc\":{\"age\":1},\n",
    "        \"$rename\":{\"name\":\"full_name\"}\n",
    "        \n",
    "    }\n",
    "    person_collection.update_one({\"_id\":_id},all_updates)\n",
    "update_person(\"67b8a063d8d521826fd0ce74\")\n",
    "\n"
   ]
  },
  {
   "cell_type": "code",
   "execution_count": 21,
   "metadata": {},
   "outputs": [
    {
     "name": "stdout",
     "output_type": "stream",
     "text": [
      "{'_id': ObjectId('67b89f0ed8d521826fd0ce73'), 'age': 20, 'name': 'Kushu'}\n",
      "{'_id': ObjectId('67b8a063d8d521826fd0ce74'),\n",
      " 'age': 22,\n",
      " 'full_name': 'naman',\n",
      " 'new_field': True}\n",
      "{'_id': ObjectId('67b8a063d8d521826fd0ce75'), 'age': 23, 'name': 'bathla'}\n",
      "{'_id': ObjectId('67b8a063d8d521826fd0ce76'),\n",
      " 'age': 22,\n",
      " 'name': 'jastej dickhead'}\n",
      "{'_id': ObjectId('67b8a063d8d521826fd0ce77'),\n",
      " 'age': 23,\n",
      " 'name': 'asshole aryan'}\n"
     ]
    }
   ],
   "source": [
    "def print_a():\n",
    "    people=person_collection.find()\n",
    "    for person in people:\n",
    "        pprint.pprint(person)\n",
    "        \n",
    "print_a()"
   ]
  },
  {
   "cell_type": "code",
   "execution_count": 23,
   "metadata": {},
   "outputs": [],
   "source": [
    "def replace_one(person_id):\n",
    "    from bson.objectid import ObjectId\n",
    "    _id=ObjectId(person_id)\n",
    "    new_doc={\n",
    "        \"first_name\":\"new first name\",\n",
    "        \"last_name\":\"new last name\",\n",
    "        \"age\":100\n",
    "    }\n",
    "    person_collection.replace_one({\"_id\":_id},new_doc)\n",
    "\n",
    "replace_one(\"67b8a063d8d521826fd0ce74\")\n",
    "    \n"
   ]
  },
  {
   "cell_type": "code",
   "execution_count": 24,
   "metadata": {},
   "outputs": [
    {
     "name": "stdout",
     "output_type": "stream",
     "text": [
      "{'_id': ObjectId('67b89f0ed8d521826fd0ce73'), 'age': 20, 'name': 'Kushu'}\n",
      "{'_id': ObjectId('67b8a063d8d521826fd0ce74'),\n",
      " 'age': 100,\n",
      " 'first_name': 'new first name',\n",
      " 'last_name': 'new last name'}\n",
      "{'_id': ObjectId('67b8a063d8d521826fd0ce75'), 'age': 23, 'name': 'bathla'}\n",
      "{'_id': ObjectId('67b8a063d8d521826fd0ce76'),\n",
      " 'age': 22,\n",
      " 'name': 'jastej dickhead'}\n",
      "{'_id': ObjectId('67b8a063d8d521826fd0ce77'),\n",
      " 'age': 23,\n",
      " 'name': 'asshole aryan'}\n"
     ]
    }
   ],
   "source": [
    "def print_a():\n",
    "    people=person_collection.find()\n",
    "    for person in people:\n",
    "        pprint.pprint(person)\n",
    "        \n",
    "print_a()"
   ]
  },
  {
   "cell_type": "code",
   "execution_count": 26,
   "metadata": {},
   "outputs": [
    {
     "name": "stdout",
     "output_type": "stream",
     "text": [
      "{'_id': ObjectId('67b89f0ed8d521826fd0ce73'), 'age': 20, 'name': 'Kushu'}\n",
      "{'_id': ObjectId('67b8a063d8d521826fd0ce75'), 'age': 23, 'name': 'bathla'}\n",
      "{'_id': ObjectId('67b8a063d8d521826fd0ce76'),\n",
      " 'age': 22,\n",
      " 'name': 'jastej dickhead'}\n",
      "{'_id': ObjectId('67b8a063d8d521826fd0ce77'),\n",
      " 'age': 23,\n",
      " 'name': 'asshole aryan'}\n"
     ]
    }
   ],
   "source": [
    "#deleting\n",
    "def delete_docs(id):\n",
    "    from bson.objectid import ObjectId\n",
    "    _id=ObjectId(id)\n",
    "    person_collection.delete_one({\"_id\":_id})\n",
    "\n",
    "delete_docs(\"67b8a063d8d521826fd0ce74\")\n",
    "\n",
    "def print_a():\n",
    "    people=person_collection.find()\n",
    "    for person in people:\n",
    "        pprint.pprint(person)\n",
    "        \n",
    "print_a()"
   ]
  },
  {
   "cell_type": "code",
   "execution_count": null,
   "metadata": {},
   "outputs": [],
   "source": []
  }
 ],
 "metadata": {
  "kernelspec": {
   "display_name": ".venv",
   "language": "python",
   "name": "python3"
  },
  "language_info": {
   "codemirror_mode": {
    "name": "ipython",
    "version": 3
   },
   "file_extension": ".py",
   "mimetype": "text/x-python",
   "name": "python",
   "nbconvert_exporter": "python",
   "pygments_lexer": "ipython3",
   "version": "3.12.2"
  }
 },
 "nbformat": 4,
 "nbformat_minor": 2
}
