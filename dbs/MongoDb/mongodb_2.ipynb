{
 "cells": [
  {
   "cell_type": "code",
   "execution_count": null,
   "metadata": {},
   "outputs": [],
   "source": [
    "# from dotenv import load_dotenv,find_dotenv\n",
    "import os\n",
    "import pprint\n",
    "import pymongo\n",
    "from pymongo import MongoClient\n",
    "\n"
   ]
  },
  {
   "cell_type": "code",
   "execution_count": 3,
   "metadata": {},
   "outputs": [],
   "source": [
    "\n",
    "client = MongoClient(\"mongodb://localhost:27017/\")"
   ]
  },
  {
   "cell_type": "code",
   "execution_count": 4,
   "metadata": {},
   "outputs": [],
   "source": [
    "production=client.production"
   ]
  },
  {
   "cell_type": "code",
   "execution_count": 5,
   "metadata": {},
   "outputs": [],
   "source": [
    "book_validator = {\n",
    "    \"$jsonSchema\": {\n",
    "        \"bsonType\": \"object\",\n",
    "        \"required\": [\"title\", \"authors\", \"publish_date\", \"type\", \"copies\"],\n",
    "        \"properties\": {\n",
    "            \"title\": {\n",
    "                \"bsonType\": \"string\",\n",
    "                \"description\": \"must be a string and is required\"\n",
    "            },\n",
    "            \"authors\": {\n",
    "                \"bsonType\": \"array\",\n",
    "                \"items\": {\n",
    "                    \"bsonType\": \"objectId\",\n",
    "                    \"description\": \"must be an objectId and is required\"\n",
    "                }\n",
    "            },\n",
    "            \"publish_date\": {\n",
    "                \"bsonType\": \"date\",\n",
    "                \"description\": \"must be a date and is required\"\n",
    "            },\n",
    "            \"type\": {\n",
    "                \"enum\": [\"Fiction\", \"Non-Fiction\"],\n",
    "                \"description\": \"can only be one of the enum values and is required\"\n",
    "            },\n",
    "            \"copies\": {\n",
    "                \"bsonType\": \"int\",\n",
    "                \"minimum\": 0,\n",
    "                \"description\": \"must be an integer greater than 0 and is required\"\n",
    "            }\n",
    "        }\n",
    "    }\n",
    "}\n"
   ]
  },
  {
   "cell_type": "code",
   "execution_count": 6,
   "metadata": {},
   "outputs": [
    {
     "data": {
      "text/plain": [
       "{'ok': 1.0}"
      ]
     },
     "execution_count": 6,
     "metadata": {},
     "output_type": "execute_result"
    }
   ],
   "source": [
    "try:\n",
    "    production.create_collection(\"book\")\n",
    "except Exception as e:\n",
    "    print(e)\n",
    "    \n",
    "production.command(\"collMod\",\"book\",validator=book_validator)\n"
   ]
  },
  {
   "cell_type": "code",
   "execution_count": 8,
   "metadata": {},
   "outputs": [
    {
     "name": "stdout",
     "output_type": "stream",
     "text": [
      "collection author already exists\n"
     ]
    }
   ],
   "source": [
    "def create_author_collection():\n",
    "    author_validator = {\n",
    "        \"$jsonSchema\":{\n",
    "            \"bsonType\":\"object\",\n",
    "            \"required\":[\"first_name\",\"last_name\",\"date_of_birth\"],\n",
    "            \"properties\":{\n",
    "                \"first_name\":{\n",
    "                    \"bsonType\":\"string\",\n",
    "                    \"description\":\"must be a string and is required\"\n",
    "                },\n",
    "                \"last_name\":{\n",
    "                    \"bsonType\":\"string\",\n",
    "                    \"description\":\"must be a string and is required\"\n",
    "                },\n",
    "                \"date_of_birth\":{\n",
    "                    \"bsonType\":\"date\",\n",
    "                    \"description\":\"must be a string and is required\"\n",
    "                }\n",
    "            }\n",
    "        }\n",
    "    }\n",
    "    \n",
    "    try:\n",
    "        production.create_collection(\"author\")\n",
    "    except Exception as e:\n",
    "        print(e)\n",
    "    \n",
    "    \n",
    "    production.command(\"collMod\",\"author\",validator=author_validator)\n",
    "\n",
    "\n",
    "create_author_collection()"
   ]
  },
  {
   "cell_type": "code",
   "execution_count": 11,
   "metadata": {},
   "outputs": [],
   "source": [
    "from datetime import datetime as dt\n"
   ]
  },
  {
   "cell_type": "code",
   "execution_count": 18,
   "metadata": {},
   "outputs": [],
   "source": [
    "authors=[\n",
    "    {\n",
    "        \"first_name\":\"Tim\",\n",
    "        \"last_name\":\"Holy\",\n",
    "        \"date_of_birth\":dt(1975,10,27)\n",
    "    },\n",
    "    {\n",
    "        \"first_name\":\"Stephen\",\n",
    "        \"last_name\":\"Hawking\",\n",
    "        \"date_of_birth\":dt(1942,1,8)\n",
    "    },\n",
    "    {\n",
    "        \"first_name\":\"Carl\",\n",
    "        \"last_name\":\"Sagan\",\n",
    "        \"date_of_birth\":dt(1934,11,9)\n",
    "    },\n",
    "    {\n",
    "        \"first_name\":\"Jane\",\n",
    "        \"last_name\":\"Austen\",\n",
    "        \"date_of_birth\":dt(1775,12,16)\n",
    "    },\n",
    "    {\n",
    "        \"first_name\":\"Mark\",\n",
    "        \"last_name\":\"Twain\",\n",
    "        \"date_of_birth\":dt(1835,11,30)\n",
    "    },\n",
    "    {\n",
    "        \"first_name\":\"Agatha\",\n",
    "        \"last_name\":\"Christie\", \n",
    "        \"date_of_birth\":dt(1890,9,15)\n",
    "    }\n",
    "]\n",
    "# /author_collection=production.author\n",
    "# author_collection.insert_many(authors)\n",
    "\n",
    "authors=author_collection.insert_many(authors).inserted_ids"
   ]
  },
  {
   "cell_type": "code",
   "execution_count": 19,
   "metadata": {},
   "outputs": [
    {
     "name": "stdout",
     "output_type": "stream",
     "text": [
      "{'_id': ObjectId('67bb3ea110d1e4fd855d7f2e'), 'first_name': 'Tim', 'last_name': 'Holy', 'date_of_birth': datetime.datetime(1975, 10, 27, 0, 0)}\n",
      "{'_id': ObjectId('67bb3ea110d1e4fd855d7f2f'), 'first_name': 'Stephen', 'last_name': 'Hawking', 'date_of_birth': datetime.datetime(1942, 1, 8, 0, 0)}\n",
      "{'_id': ObjectId('67bb3ea110d1e4fd855d7f30'), 'first_name': 'Carl', 'last_name': 'Sagan', 'date_of_birth': datetime.datetime(1934, 11, 9, 0, 0)}\n",
      "{'_id': ObjectId('67bb3ea110d1e4fd855d7f31'), 'first_name': 'Jane', 'last_name': 'Austen', 'date_of_birth': datetime.datetime(1775, 12, 16, 0, 0)}\n",
      "{'_id': ObjectId('67bb3ea110d1e4fd855d7f32'), 'first_name': 'Mark', 'last_name': 'Twain', 'date_of_birth': datetime.datetime(1835, 11, 30, 0, 0)}\n",
      "{'_id': ObjectId('67bb3ea110d1e4fd855d7f33'), 'first_name': 'Agatha', 'last_name': 'Christie', 'date_of_birth': datetime.datetime(1890, 9, 15, 0, 0)}\n"
     ]
    }
   ],
   "source": [
    "for author in author_collection.find():\n",
    "    print(author)"
   ]
  },
  {
   "cell_type": "code",
   "execution_count": 16,
   "metadata": {},
   "outputs": [
    {
     "data": {
      "text/plain": [
       "DeleteResult({'n': 12, 'ok': 1.0}, acknowledged=True)"
      ]
     },
     "execution_count": 16,
     "metadata": {},
     "output_type": "execute_result"
    }
   ],
   "source": [
    "author_collection.delete_many({})\n"
   ]
  },
  {
   "cell_type": "code",
   "execution_count": 17,
   "metadata": {},
   "outputs": [],
   "source": [
    "for author in author_collection.find():\n",
    "    print(author)"
   ]
  },
  {
   "cell_type": "code",
   "execution_count": 23,
   "metadata": {},
   "outputs": [
    {
     "name": "stdout",
     "output_type": "stream",
     "text": [
      "Books added successfully!\n",
      "\n",
      "Title: Image Processing in Julia\n",
      "Author: Tim Holy\n",
      "Type: Non-Fiction\n",
      "Copies: 100\n",
      "\n",
      "Title: A Brief History of Time\n",
      "Author: Stephen Hawking\n",
      "Type: Non-Fiction\n",
      "Copies: 500\n",
      "\n",
      "Title: Cosmos\n",
      "Author: Carl Sagan\n",
      "Type: Non-Fiction\n",
      "Copies: 300\n",
      "\n",
      "Title: Pride and Prejudice\n",
      "Author: Jane Austen\n",
      "Type: Fiction\n",
      "Copies: 1000\n",
      "\n",
      "Title: The Adventures of Tom Sawyer\n",
      "Author: Mark Twain\n",
      "Type: Fiction\n",
      "Copies: 750\n",
      "\n",
      "Title: Murder on the Orient Express\n",
      "Author: Agatha Christie\n",
      "Type: Fiction\n",
      "Copies: 400\n"
     ]
    }
   ],
   "source": [
    "authors_list = list(author_collection.find())\n",
    "\n",
    "# Create books with proper references to authors\n",
    "books = [\n",
    "    {\n",
    "        \"title\": \"Image Processing in Julia\",\n",
    "        \"authors\": [authors_list[0]['_id']],  # Tim Holy\n",
    "        \"publish_date\": dt(2020, 5, 15),\n",
    "        \"type\": \"Non-Fiction\",\n",
    "        \"copies\": 100\n",
    "    },\n",
    "    {\n",
    "        \"title\": \"A Brief History of Time\",\n",
    "        \"authors\": [authors_list[1]['_id']],  # Stephen Hawking\n",
    "        \"publish_date\": dt(1988, 3, 1),\n",
    "        \"type\": \"Non-Fiction\",\n",
    "        \"copies\": 500\n",
    "    },\n",
    "    {\n",
    "        \"title\": \"Cosmos\",\n",
    "        \"authors\": [authors_list[2]['_id']],  # Carl Sagan\n",
    "        \"publish_date\": dt(1980, 9, 28),\n",
    "        \"type\": \"Non-Fiction\",\n",
    "        \"copies\": 300\n",
    "    },\n",
    "    {\n",
    "        \"title\": \"Pride and Prejudice\",\n",
    "        \"authors\": [authors_list[3]['_id']],  # Jane Austen\n",
    "        \"publish_date\": dt(1813, 1, 28),\n",
    "        \"type\": \"Fiction\",\n",
    "        \"copies\": 1000\n",
    "    },\n",
    "    {\n",
    "        \"title\": \"The Adventures of Tom Sawyer\",\n",
    "        \"authors\": [authors_list[4]['_id']],  # Mark Twain\n",
    "        \"publish_date\": dt(1876, 6, 1),\n",
    "        \"type\": \"Fiction\",\n",
    "        \"copies\": 750\n",
    "    },\n",
    "    {\n",
    "        \"title\": \"Murder on the Orient Express\",\n",
    "        \"authors\": [authors_list[5]['_id']],  # Agatha Christie\n",
    "        \"publish_date\": dt(1934, 1, 1),\n",
    "        \"type\": \"Fiction\",\n",
    "        \"copies\": 400\n",
    "    }\n",
    "]\n",
    "try:\n",
    "    result = production.book.insert_many(books)\n",
    "    print(\"Books added successfully!\")\n",
    "    \n",
    "    # Let's see our books with author names\n",
    "    for book in production.book.find():\n",
    "        author = author_collection.find_one({\"_id\": book['authors'][0]})\n",
    "        print(f\"\\nTitle: {book['title']}\")\n",
    "        print(f\"Author: {author['first_name']} {author['last_name']}\")\n",
    "        print(f\"Type: {book['type']}\")\n",
    "        print(f\"Copies: {book['copies']}\")\n",
    "except Exception as e:\n",
    "    print(f\"Error: {e}\")"
   ]
  },
  {
   "cell_type": "code",
   "execution_count": 25,
   "metadata": {},
   "outputs": [
    {
     "name": "stdout",
     "output_type": "stream",
     "text": [
      "Number of books inserted: 6\n",
      "Total books in collection: 6\n"
     ]
    }
   ],
   "source": [
    "\n",
    "print(f\"Number of books inserted: {len(result.inserted_ids)}\")\n",
    "\n",
    "# Double check the count\n",
    "count = production.book.count_documents({})\n",
    "print(f\"Total books in collection: {count}\")"
   ]
  },
  {
   "cell_type": "code",
   "execution_count": 22,
   "metadata": {},
   "outputs": [
    {
     "data": {
      "text/plain": [
       "DeleteResult({'n': 12, 'ok': 1.0}, acknowledged=True)"
      ]
     },
     "execution_count": 22,
     "metadata": {},
     "output_type": "execute_result"
    }
   ],
   "source": [
    "\n",
    "production.book.delete_many({})\n"
   ]
  },
  {
   "cell_type": "code",
   "execution_count": 31,
   "metadata": {},
   "outputs": [],
   "source": [
    "authors_and_books = production.author.aggregate([{\n",
    "    \"$lookup\":{\n",
    "        \"from\":\"book\",\n",
    "        \"localField\":\"_id\",\n",
    "        \"foreignField\":\"authors\",\n",
    "        \"as\":\"books\"\n",
    "    }\n",
    "}])\n"
   ]
  },
  {
   "cell_type": "code",
   "execution_count": 32,
   "metadata": {},
   "outputs": [
    {
     "name": "stdout",
     "output_type": "stream",
     "text": [
      "[{'_id': ObjectId('67bb3ea110d1e4fd855d7f2e'),\n",
      "  'books': [{'_id': ObjectId('67bb419a10d1e4fd855d7f40'),\n",
      "             'authors': [ObjectId('67bb3ea110d1e4fd855d7f2e')],\n",
      "             'copies': 100,\n",
      "             'publish_date': datetime.datetime(2020, 5, 15, 0, 0),\n",
      "             'title': 'Image Processing in Julia',\n",
      "             'type': 'Non-Fiction'}],\n",
      "  'date_of_birth': datetime.datetime(1975, 10, 27, 0, 0),\n",
      "  'first_name': 'Tim',\n",
      "  'last_name': 'Holy'},\n",
      " {'_id': ObjectId('67bb3ea110d1e4fd855d7f2f'),\n",
      "  'books': [{'_id': ObjectId('67bb419a10d1e4fd855d7f41'),\n",
      "             'authors': [ObjectId('67bb3ea110d1e4fd855d7f2f')],\n",
      "             'copies': 500,\n",
      "             'publish_date': datetime.datetime(1988, 3, 1, 0, 0),\n",
      "             'title': 'A Brief History of Time',\n",
      "             'type': 'Non-Fiction'}],\n",
      "  'date_of_birth': datetime.datetime(1942, 1, 8, 0, 0),\n",
      "  'first_name': 'Stephen',\n",
      "  'last_name': 'Hawking'},\n",
      " {'_id': ObjectId('67bb3ea110d1e4fd855d7f30'),\n",
      "  'books': [{'_id': ObjectId('67bb419a10d1e4fd855d7f42'),\n",
      "             'authors': [ObjectId('67bb3ea110d1e4fd855d7f30')],\n",
      "             'copies': 300,\n",
      "             'publish_date': datetime.datetime(1980, 9, 28, 0, 0),\n",
      "             'title': 'Cosmos',\n",
      "             'type': 'Non-Fiction'}],\n",
      "  'date_of_birth': datetime.datetime(1934, 11, 9, 0, 0),\n",
      "  'first_name': 'Carl',\n",
      "  'last_name': 'Sagan'},\n",
      " {'_id': ObjectId('67bb3ea110d1e4fd855d7f31'),\n",
      "  'books': [{'_id': ObjectId('67bb419a10d1e4fd855d7f43'),\n",
      "             'authors': [ObjectId('67bb3ea110d1e4fd855d7f31')],\n",
      "             'copies': 1000,\n",
      "             'publish_date': datetime.datetime(1813, 1, 28, 0, 0),\n",
      "             'title': 'Pride and Prejudice',\n",
      "             'type': 'Fiction'}],\n",
      "  'date_of_birth': datetime.datetime(1775, 12, 16, 0, 0),\n",
      "  'first_name': 'Jane',\n",
      "  'last_name': 'Austen'},\n",
      " {'_id': ObjectId('67bb3ea110d1e4fd855d7f32'),\n",
      "  'books': [{'_id': ObjectId('67bb419a10d1e4fd855d7f44'),\n",
      "             'authors': [ObjectId('67bb3ea110d1e4fd855d7f32')],\n",
      "             'copies': 750,\n",
      "             'publish_date': datetime.datetime(1876, 6, 1, 0, 0),\n",
      "             'title': 'The Adventures of Tom Sawyer',\n",
      "             'type': 'Fiction'}],\n",
      "  'date_of_birth': datetime.datetime(1835, 11, 30, 0, 0),\n",
      "  'first_name': 'Mark',\n",
      "  'last_name': 'Twain'},\n",
      " {'_id': ObjectId('67bb3ea110d1e4fd855d7f33'),\n",
      "  'books': [{'_id': ObjectId('67bb419a10d1e4fd855d7f45'),\n",
      "             'authors': [ObjectId('67bb3ea110d1e4fd855d7f33')],\n",
      "             'copies': 400,\n",
      "             'publish_date': datetime.datetime(1934, 1, 1, 0, 0),\n",
      "             'title': 'Murder on the Orient Express',\n",
      "             'type': 'Fiction'}],\n",
      "  'date_of_birth': datetime.datetime(1890, 9, 15, 0, 0),\n",
      "  'first_name': 'Agatha',\n",
      "  'last_name': 'Christie'}]\n"
     ]
    }
   ],
   "source": [
    "pprint.pprint(list(authors_and_books))"
   ]
  }
 ],
 "metadata": {
  "kernelspec": {
   "display_name": ".venv",
   "language": "python",
   "name": "python3"
  },
  "language_info": {
   "codemirror_mode": {
    "name": "ipython",
    "version": 3
   },
   "file_extension": ".py",
   "mimetype": "text/x-python",
   "name": "python",
   "nbconvert_exporter": "python",
   "pygments_lexer": "ipython3",
   "version": "3.12.2"
  }
 },
 "nbformat": 4,
 "nbformat_minor": 2
}
