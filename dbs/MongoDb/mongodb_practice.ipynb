{
 "cells": [
  {
   "cell_type": "code",
   "execution_count": 1,
   "metadata": {},
   "outputs": [],
   "source": [
    "import pymongo\n",
    "import pprint"
   ]
  },
  {
   "cell_type": "code",
   "execution_count": 2,
   "metadata": {},
   "outputs": [],
   "source": [
    "from pymongo import MongoClient\n",
    "\n",
    "\n",
    "client = MongoClient(\"mongodb://localhost:27017/\")\n"
   ]
  },
  {
   "cell_type": "code",
   "execution_count": 3,
   "metadata": {},
   "outputs": [
    {
     "name": "stdout",
     "output_type": "stream",
     "text": [
      "['admin', 'config', 'local', 'mydatabase', 'mydatabases', 'production']\n"
     ]
    }
   ],
   "source": [
    "show_db=client.list_database_names()\n",
    "print(show_db)\n"
   ]
  },
  {
   "cell_type": "code",
   "execution_count": 5,
   "metadata": {},
   "outputs": [
    {
     "name": "stdout",
     "output_type": "stream",
     "text": [
      "Database(MongoClient(host=['localhost:27017'], document_class=dict, tz_aware=False, connect=True), 'test')\n"
     ]
    }
   ],
   "source": [
    "new=client[\"test\"]\n",
    "print(new)\n",
    "\n"
   ]
  },
  {
   "cell_type": "code",
   "execution_count": 6,
   "metadata": {},
   "outputs": [
    {
     "name": "stdout",
     "output_type": "stream",
     "text": [
      "[]\n"
     ]
    }
   ],
   "source": [
    "\n",
    "collections=new.list_collection_names()\n",
    "print(collections)\n"
   ]
  },
  {
   "cell_type": "code",
   "execution_count": 7,
   "metadata": {},
   "outputs": [],
   "source": [
    "test=new[\"test\"]\n"
   ]
  },
  {
   "cell_type": "code",
   "execution_count": 8,
   "metadata": {},
   "outputs": [
    {
     "name": "stdout",
     "output_type": "stream",
     "text": [
      "[ObjectId('67bc4b26e7a14e3c995f4145'), ObjectId('67bc4b26e7a14e3c995f4146'), ObjectId('67bc4b26e7a14e3c995f4147')]\n"
     ]
    }
   ],
   "source": [
    "people=[\n",
    "    {\n",
    "        \"name\":\"kushagra\",\n",
    "        \"occupation\":\"student\"\n",
    "    },\n",
    "    {\n",
    "    \n",
    "        \"name\":\"jastej\",\n",
    "        \"occupation\":\"student\"\n",
    "    },\n",
    "    { \n",
    "        \"name\":\"nikamma\",\n",
    "        \"occupation\":\"business\"\n",
    "    },\n",
    "    \n",
    "]\n",
    "people=test.insert_many(people).inserted_ids\n",
    "print(people)\n",
    "\n",
    "\n"
   ]
  },
  {
   "cell_type": "code",
   "execution_count": 11,
   "metadata": {},
   "outputs": [
    {
     "name": "stdout",
     "output_type": "stream",
     "text": [
      "{'_id': ObjectId('67bc4b26e7a14e3c995f4145'), 'name': 'kushagra', 'occupation': 'student'}\n",
      "{'_id': ObjectId('67bc4b26e7a14e3c995f4146'), 'name': 'jastej', 'occupation': 'student'}\n",
      "{'_id': ObjectId('67bc4b26e7a14e3c995f4147'), 'name': 'nikamma', 'occupation': 'business'}\n"
     ]
    }
   ],
   "source": [
    "for people in test.find():\n",
    "    print(people)"
   ]
  },
  {
   "cell_type": "code",
   "execution_count": 13,
   "metadata": {},
   "outputs": [
    {
     "name": "stdout",
     "output_type": "stream",
     "text": [
      "[ObjectId('67bc4e60e7a14e3c995f4148'), ObjectId('67bc4e60e7a14e3c995f4149')]\n"
     ]
    }
   ],
   "source": [
    "name=[\n",
    "    {\n",
    "        \"name\":\"batra\",\n",
    "        \"occupation\":\"business\"\n",
    "    },\n",
    "    {\n",
    "        \"name\":\"saroj\",\n",
    "        \"occupation\":\"teacher\"\n",
    "    }\n",
    "]\n",
    "people=test.insert_many(name).inserted_ids\n",
    "print(people)"
   ]
  },
  {
   "cell_type": "code",
   "execution_count": 14,
   "metadata": {},
   "outputs": [
    {
     "name": "stdout",
     "output_type": "stream",
     "text": [
      "{'_id': ObjectId('67bc4b26e7a14e3c995f4145'), 'name': 'kushagra', 'occupation': 'student'}\n",
      "{'_id': ObjectId('67bc4b26e7a14e3c995f4146'), 'name': 'jastej', 'occupation': 'student'}\n",
      "{'_id': ObjectId('67bc4b26e7a14e3c995f4147'), 'name': 'nikamma', 'occupation': 'business'}\n",
      "{'_id': ObjectId('67bc4e60e7a14e3c995f4148'), 'name': 'batra', 'occupation': 'business'}\n",
      "{'_id': ObjectId('67bc4e60e7a14e3c995f4149'), 'name': 'saroj', 'occupation': 'teacher'}\n"
     ]
    }
   ],
   "source": [
    "for people in test.find():\n",
    "    print(people)"
   ]
  },
  {
   "cell_type": "code",
   "execution_count": 17,
   "metadata": {},
   "outputs": [],
   "source": [
    "#to find using name\n",
    "# select * from table where name ==\"name\"\n",
    "def find_by_name(name):\n",
    "   \n",
    "        person=test.find_one({\"name\":name})\n",
    "        \n",
    "        if person:\n",
    "            print(f\"person {person[\"name\"],{person[\"occupation\"]}}\")\n",
    "  \n",
    "        \n",
    "find_by_name(\"ksuhu\")\n",
    "       \n",
    "       \n",
    "        "
   ]
  }
 ],
 "metadata": {
  "kernelspec": {
   "display_name": ".venv",
   "language": "python",
   "name": "python3"
  },
  "language_info": {
   "codemirror_mode": {
    "name": "ipython",
    "version": 3
   },
   "file_extension": ".py",
   "mimetype": "text/x-python",
   "name": "python",
   "nbconvert_exporter": "python",
   "pygments_lexer": "ipython3",
   "version": "3.12.2"
  }
 },
 "nbformat": 4,
 "nbformat_minor": 2
}
